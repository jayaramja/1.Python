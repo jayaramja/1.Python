{
 "cells": [
  {
   "cell_type": "code",
   "execution_count": 2,
   "metadata": {
    "scrolled": true
   },
   "outputs": [
    {
     "name": "stdout",
     "output_type": "stream",
     "text": [
      "Welcome to Assignment-1\n"
     ]
    }
   ],
   "source": [
    "print(\"Welcome to Assignment-1\")"
   ]
  },
  {
   "cell_type": "code",
   "execution_count": 3,
   "metadata": {},
   "outputs": [
    {
     "name": "stdout",
     "output_type": "stream",
     "text": [
      "number1 = 10\n",
      "number1 = 30\n",
      "Sum =  40\n"
     ]
    }
   ],
   "source": [
    "Num1=10\n",
    "Num2=30\n",
    "Add=Num1+Num2\n",
    "print(\"number1 =\",Num1)\n",
    "print(\"number1 =\",Num2)\n",
    "print(\"Sum = \",Add) "
   ]
  },
  {
   "cell_type": "code",
   "execution_count": 7,
   "metadata": {},
   "outputs": [
    {
     "name": "stdout",
     "output_type": "stream",
     "text": [
      "Enter your height in cm : 5\n",
      "Enter your weight in kg : 50\n",
      "Under weight\n"
     ]
    }
   ],
   "source": [
    "height=int(input(\"Enter your height in cm : \"))\n",
    "weight=int(input(\"Enter your weight in kg : \"))\n",
    "bmi=height/weight ** 2\n",
    "if(bmi<18):\n",
    "    print(\"Under weight\")\n",
    "elif(bmi<25):\n",
    "    print(\"Healthy weight\")\n",
    "elif(bmi<30):\n",
    "    print(\"Over weight\")  \n",
    "elif(bmi<35):\n",
    "    print(\"Obese\") \n",
    "elif(bmi<40):\n",
    "    print(\"Severely obese\")\n",
    "else:\n",
    "    print(\"Morbidly obese\")\n",
    " "
   ]
  },
  {
   "cell_type": "code",
   "execution_count": null,
   "metadata": {},
   "outputs": [],
   "source": []
  },
  {
   "cell_type": "code",
   "execution_count": null,
   "metadata": {
    "scrolled": true
   },
   "outputs": [],
   "source": [
    "\n"
   ]
  },
  {
   "cell_type": "code",
   "execution_count": null,
   "metadata": {},
   "outputs": [],
   "source": []
  }
 ],
 "metadata": {
  "kernelspec": {
   "display_name": "Python 3",
   "language": "python",
   "name": "python3"
  },
  "language_info": {
   "codemirror_mode": {
    "name": "ipython",
    "version": 3
   },
   "file_extension": ".py",
   "mimetype": "text/x-python",
   "name": "python",
   "nbconvert_exporter": "python",
   "pygments_lexer": "ipython3",
   "version": "3.7.4"
  }
 },
 "nbformat": 4,
 "nbformat_minor": 2
}
